{
 "cells": [
  {
   "cell_type": "code",
   "execution_count": 16,
   "metadata": {},
   "outputs": [
    {
     "name": "stdin",
     "output_type": "stream",
     "text": [
      "Enter a length of side i: 2\n",
      "Enter a length of side j: 5\n",
      "Enter a length of side k: 6\n"
     ]
    },
    {
     "name": "stdout",
     "output_type": "stream",
     "text": [
      "Area of trianle is 4.683748498798798\n"
     ]
    }
   ],
   "source": [
    "### Q1.1 Write a Python Program(with class concepts) to find the area of the triangle using the below formula.area = (s*(s-a)*(s-b)*(s-c)) ** 0.5 Function to take the length of the sides of triangle from user should be defined in the parentclass and function to calculate the area should be defined in subclass.\n",
    "class Triangle:\n",
    "    def __init__(self,i,j,k):\n",
    "        self.a=i\n",
    "        self.b=j\n",
    "        self.c=k\n",
    "    def area(self):\n",
    "        s=(self.a+self.b+self.c)/2\n",
    "        area=(s*(s-self.a)*(s-self.b)*(s-self.c))**0.5\n",
    "        return area\n",
    "    \n",
    "a=float(input(\"Enter a length of side i:\"))\n",
    "b=float(input(\"Enter a length of side j:\"))\n",
    "c=float(input(\"Enter a length of side k:\"))\n",
    "tri=Triangle(a,b,c)\n",
    "\n",
    "print(\"Area of trianle is {}\".format(tri.area()))"
   ]
  },
  {
   "cell_type": "code",
   "execution_count": 12,
   "metadata": {},
   "outputs": [
    {
     "name": "stdin",
     "output_type": "stream",
     "text": [
      "Enter a value for n:- 4\n"
     ]
    },
    {
     "name": "stdout",
     "output_type": "stream",
     "text": [
      "List of words longer than 4\n",
      "['karishma', 'dhrumil']\n"
     ]
    }
   ],
   "source": [
    "### Q1.2 Write a function filter_long_words() that takes a list of words and an integer n and returns the list of words that are longer than n.\n",
    "def filter_long_word(list_1,n):\n",
    "    list_2=[]\n",
    "    for i in range(0,len(list_1)):\n",
    "        if len(list_1[i])>n:\n",
    "            list_2.append(list_1[i])\n",
    "    return list_2\n",
    "list_3=['jay','karishma','dhrumil','go','run']\n",
    "n=int(input(\"Enter a value for n:-\"))\n",
    "lst=filter_long_word(list_3,n)\n",
    "print(\"List of words longer than {}\".format(n))\n",
    "print(lst)"
   ]
  },
  {
   "cell_type": "code",
   "execution_count": 11,
   "metadata": {},
   "outputs": [
    {
     "name": "stdout",
     "output_type": "stream",
     "text": [
      "[7, 8, 5, 4]\n"
     ]
    }
   ],
   "source": [
    "### Q2.1 Write a Python program using function concept that maps list of words into a list of integers representing the lengths of the corresponding words.Hint: If a list [ ab,cde,erty] is passed on to the python function output should come as [2,3,4] Here 2,3 and 4 are the lengths of the words in the list.\n",
    "def find_length(list_1):\n",
    "    new_list=[]\n",
    "    for i in range (0,len(list_1)):\n",
    "        new_list.append(len(list_1[i]))\n",
    "    return new_list\n",
    "list_2=['dhrumil','karishma','naksh','deep']\n",
    "length_lst=find_length(list_2)\n",
    "print(length_lst)"
   ]
  },
  {
   "cell_type": "code",
   "execution_count": 10,
   "metadata": {},
   "outputs": [
    {
     "name": "stdout",
     "output_type": "stream",
     "text": [
      "False\n",
      "True\n",
      "Type only one letter\n",
      "None\n"
     ]
    }
   ],
   "source": [
    "### Q2.2 Write a Python function which takes a character (i.e. a string of length 1) and returns True if it is a vowel, False otherwise.\n",
    "def vowel(i):\n",
    "    if len(i)==1:\n",
    "        if i in ('a','e','i','o','u','A','E','I','O','U'):\n",
    "            return True \n",
    "        else:\n",
    "            return False\n",
    "    else:\n",
    "        print('Type only one letter')\n",
    "    \n",
    "print(vowel('d'))\n",
    "print(vowel('e'))\n",
    "print(vowel('go'))"
   ]
  },
  {
   "cell_type": "code",
   "execution_count": null,
   "metadata": {},
   "outputs": [],
   "source": []
  }
 ],
 "metadata": {
  "kernelspec": {
   "display_name": "Python 3",
   "language": "python",
   "name": "python3"
  },
  "language_info": {
   "codemirror_mode": {
    "name": "ipython",
    "version": 3
   },
   "file_extension": ".py",
   "mimetype": "text/x-python",
   "name": "python",
   "nbconvert_exporter": "python",
   "pygments_lexer": "ipython3",
   "version": "3.8.5"
  }
 },
 "nbformat": 4,
 "nbformat_minor": 4
}
